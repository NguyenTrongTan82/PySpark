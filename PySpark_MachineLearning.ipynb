{
  "nbformat": 4,
  "nbformat_minor": 0,
  "metadata": {
    "colab": {
      "name": "Untitled10.ipynb",
      "provenance": []
    },
    "kernelspec": {
      "name": "python3",
      "display_name": "Python 3"
    },
    "language_info": {
      "name": "python"
    }
  },
  "cells": [
    {
      "cell_type": "code",
      "metadata": {
        "colab": {
          "base_uri": "https://localhost:8080/"
        },
        "id": "b1gvjOboylxR",
        "outputId": "74acaebb-413f-44f2-8159-a4d0b8f2f690"
      },
      "source": [
        "!pip install pyspark"
      ],
      "execution_count": null,
      "outputs": [
        {
          "output_type": "stream",
          "text": [
            "Collecting pyspark\n",
            "\u001b[?25l  Downloading https://files.pythonhosted.org/packages/45/b0/9d6860891ab14a39d4bddf80ba26ce51c2f9dc4805e5c6978ac0472c120a/pyspark-3.1.1.tar.gz (212.3MB)\n",
            "\u001b[K     |████████████████████████████████| 212.3MB 70kB/s \n",
            "\u001b[?25hCollecting py4j==0.10.9\n",
            "\u001b[?25l  Downloading https://files.pythonhosted.org/packages/9e/b6/6a4fb90cd235dc8e265a6a2067f2a2c99f0d91787f06aca4bcf7c23f3f80/py4j-0.10.9-py2.py3-none-any.whl (198kB)\n",
            "\u001b[K     |████████████████████████████████| 204kB 43.1MB/s \n",
            "\u001b[?25hBuilding wheels for collected packages: pyspark\n",
            "  Building wheel for pyspark (setup.py) ... \u001b[?25l\u001b[?25hdone\n",
            "  Created wheel for pyspark: filename=pyspark-3.1.1-py2.py3-none-any.whl size=212767604 sha256=4c3bcb6387819ea523878f864ebdba04ceee6e4298ea41c7962292c4fc677893\n",
            "  Stored in directory: /root/.cache/pip/wheels/0b/90/c0/01de724414ef122bd05f056541fb6a0ecf47c7ca655f8b3c0f\n",
            "Successfully built pyspark\n",
            "Installing collected packages: py4j, pyspark\n",
            "Successfully installed py4j-0.10.9 pyspark-3.1.1\n"
          ],
          "name": "stdout"
        }
      ]
    },
    {
      "cell_type": "code",
      "metadata": {
        "id": "Dxe2DQvQzEfy"
      },
      "source": [
        "from pyspark.sql import SparkSession\n",
        "spark = SparkSession.builder.appName('ML project').getOrCreate()"
      ],
      "execution_count": null,
      "outputs": []
    },
    {
      "cell_type": "code",
      "metadata": {
        "colab": {
          "base_uri": "https://localhost:8080/"
        },
        "id": "gqW7PEwrzH9z",
        "outputId": "2d5a6503-4c9f-458f-be1e-f7c53a99adf0"
      },
      "source": [
        "# load data \n",
        "df = spark.read.csv('bank.csv', header = True, inferSchema = True)\n",
        "df.printSchema()"
      ],
      "execution_count": null,
      "outputs": [
        {
          "output_type": "stream",
          "text": [
            "root\n",
            " |-- age: integer (nullable = true)\n",
            " |-- job: string (nullable = true)\n",
            " |-- marital: string (nullable = true)\n",
            " |-- education: string (nullable = true)\n",
            " |-- default: string (nullable = true)\n",
            " |-- balance: integer (nullable = true)\n",
            " |-- housing: string (nullable = true)\n",
            " |-- loan: string (nullable = true)\n",
            " |-- contact: string (nullable = true)\n",
            " |-- day: integer (nullable = true)\n",
            " |-- month: string (nullable = true)\n",
            " |-- duration: integer (nullable = true)\n",
            " |-- campaign: integer (nullable = true)\n",
            " |-- pdays: integer (nullable = true)\n",
            " |-- previous: integer (nullable = true)\n",
            " |-- poutcome: string (nullable = true)\n",
            " |-- deposit: string (nullable = true)\n",
            "\n"
          ],
          "name": "stdout"
        }
      ]
    },
    {
      "cell_type": "code",
      "metadata": {
        "colab": {
          "base_uri": "https://localhost:8080/"
        },
        "id": "CQ2koI_xzspb",
        "outputId": "c1857e7e-7569-4203-84fa-cbc644522a7e"
      },
      "source": [
        "df.show()"
      ],
      "execution_count": null,
      "outputs": [
        {
          "output_type": "stream",
          "text": [
            "+---+-----------+--------+---------+-------+-------+-------+----+-------+---+-----+--------+--------+-----+--------+--------+-------+\n",
            "|age|        job| marital|education|default|balance|housing|loan|contact|day|month|duration|campaign|pdays|previous|poutcome|deposit|\n",
            "+---+-----------+--------+---------+-------+-------+-------+----+-------+---+-----+--------+--------+-----+--------+--------+-------+\n",
            "| 59|     admin.| married|secondary|     no|   2343|    yes|  no|unknown|  5|  may|    1042|       1|   -1|       0| unknown|    yes|\n",
            "| 56|     admin.| married|secondary|     no|     45|     no|  no|unknown|  5|  may|    1467|       1|   -1|       0| unknown|    yes|\n",
            "| 41| technician| married|secondary|     no|   1270|    yes|  no|unknown|  5|  may|    1389|       1|   -1|       0| unknown|    yes|\n",
            "| 55|   services| married|secondary|     no|   2476|    yes|  no|unknown|  5|  may|     579|       1|   -1|       0| unknown|    yes|\n",
            "| 54|     admin.| married| tertiary|     no|    184|     no|  no|unknown|  5|  may|     673|       2|   -1|       0| unknown|    yes|\n",
            "| 42| management|  single| tertiary|     no|      0|    yes| yes|unknown|  5|  may|     562|       2|   -1|       0| unknown|    yes|\n",
            "| 56| management| married| tertiary|     no|    830|    yes| yes|unknown|  6|  may|    1201|       1|   -1|       0| unknown|    yes|\n",
            "| 60|    retired|divorced|secondary|     no|    545|    yes|  no|unknown|  6|  may|    1030|       1|   -1|       0| unknown|    yes|\n",
            "| 37| technician| married|secondary|     no|      1|    yes|  no|unknown|  6|  may|     608|       1|   -1|       0| unknown|    yes|\n",
            "| 28|   services|  single|secondary|     no|   5090|    yes|  no|unknown|  6|  may|    1297|       3|   -1|       0| unknown|    yes|\n",
            "| 38|     admin.|  single|secondary|     no|    100|    yes|  no|unknown|  7|  may|     786|       1|   -1|       0| unknown|    yes|\n",
            "| 30|blue-collar| married|secondary|     no|    309|    yes|  no|unknown|  7|  may|    1574|       2|   -1|       0| unknown|    yes|\n",
            "| 29| management| married| tertiary|     no|    199|    yes| yes|unknown|  7|  may|    1689|       4|   -1|       0| unknown|    yes|\n",
            "| 46|blue-collar|  single| tertiary|     no|    460|    yes|  no|unknown|  7|  may|    1102|       2|   -1|       0| unknown|    yes|\n",
            "| 31| technician|  single| tertiary|     no|    703|    yes|  no|unknown|  8|  may|     943|       2|   -1|       0| unknown|    yes|\n",
            "| 35| management|divorced| tertiary|     no|   3837|    yes|  no|unknown|  8|  may|    1084|       1|   -1|       0| unknown|    yes|\n",
            "| 32|blue-collar|  single|  primary|     no|    611|    yes|  no|unknown|  8|  may|     541|       3|   -1|       0| unknown|    yes|\n",
            "| 49|   services| married|secondary|     no|     -8|    yes|  no|unknown|  8|  may|    1119|       1|   -1|       0| unknown|    yes|\n",
            "| 41|     admin.| married|secondary|     no|     55|    yes|  no|unknown|  8|  may|    1120|       2|   -1|       0| unknown|    yes|\n",
            "| 49|     admin.|divorced|secondary|     no|    168|    yes| yes|unknown|  8|  may|     513|       1|   -1|       0| unknown|    yes|\n",
            "+---+-----------+--------+---------+-------+-------+-------+----+-------+---+-----+--------+--------+-----+--------+--------+-------+\n",
            "only showing top 20 rows\n",
            "\n"
          ],
          "name": "stdout"
        }
      ]
    },
    {
      "cell_type": "code",
      "metadata": {
        "colab": {
          "base_uri": "https://localhost:8080/",
          "height": 583
        },
        "id": "EI1geveGz2Sp",
        "outputId": "492c2cd8-9610-4013-efcd-5d474d6d6df5"
      },
      "source": [
        "# Show Dataset in DataFrame\n",
        "import pandas as pd\n",
        "pd.DataFrame(df.take(10), columns=df.columns).transpose()"
      ],
      "execution_count": null,
      "outputs": [
        {
          "output_type": "execute_result",
          "data": {
            "text/html": [
              "<div>\n",
              "<style scoped>\n",
              "    .dataframe tbody tr th:only-of-type {\n",
              "        vertical-align: middle;\n",
              "    }\n",
              "\n",
              "    .dataframe tbody tr th {\n",
              "        vertical-align: top;\n",
              "    }\n",
              "\n",
              "    .dataframe thead th {\n",
              "        text-align: right;\n",
              "    }\n",
              "</style>\n",
              "<table border=\"1\" class=\"dataframe\">\n",
              "  <thead>\n",
              "    <tr style=\"text-align: right;\">\n",
              "      <th></th>\n",
              "      <th>0</th>\n",
              "      <th>1</th>\n",
              "      <th>2</th>\n",
              "      <th>3</th>\n",
              "      <th>4</th>\n",
              "      <th>5</th>\n",
              "      <th>6</th>\n",
              "      <th>7</th>\n",
              "      <th>8</th>\n",
              "      <th>9</th>\n",
              "    </tr>\n",
              "  </thead>\n",
              "  <tbody>\n",
              "    <tr>\n",
              "      <th>age</th>\n",
              "      <td>59</td>\n",
              "      <td>56</td>\n",
              "      <td>41</td>\n",
              "      <td>55</td>\n",
              "      <td>54</td>\n",
              "      <td>42</td>\n",
              "      <td>56</td>\n",
              "      <td>60</td>\n",
              "      <td>37</td>\n",
              "      <td>28</td>\n",
              "    </tr>\n",
              "    <tr>\n",
              "      <th>job</th>\n",
              "      <td>admin.</td>\n",
              "      <td>admin.</td>\n",
              "      <td>technician</td>\n",
              "      <td>services</td>\n",
              "      <td>admin.</td>\n",
              "      <td>management</td>\n",
              "      <td>management</td>\n",
              "      <td>retired</td>\n",
              "      <td>technician</td>\n",
              "      <td>services</td>\n",
              "    </tr>\n",
              "    <tr>\n",
              "      <th>marital</th>\n",
              "      <td>married</td>\n",
              "      <td>married</td>\n",
              "      <td>married</td>\n",
              "      <td>married</td>\n",
              "      <td>married</td>\n",
              "      <td>single</td>\n",
              "      <td>married</td>\n",
              "      <td>divorced</td>\n",
              "      <td>married</td>\n",
              "      <td>single</td>\n",
              "    </tr>\n",
              "    <tr>\n",
              "      <th>education</th>\n",
              "      <td>secondary</td>\n",
              "      <td>secondary</td>\n",
              "      <td>secondary</td>\n",
              "      <td>secondary</td>\n",
              "      <td>tertiary</td>\n",
              "      <td>tertiary</td>\n",
              "      <td>tertiary</td>\n",
              "      <td>secondary</td>\n",
              "      <td>secondary</td>\n",
              "      <td>secondary</td>\n",
              "    </tr>\n",
              "    <tr>\n",
              "      <th>default</th>\n",
              "      <td>no</td>\n",
              "      <td>no</td>\n",
              "      <td>no</td>\n",
              "      <td>no</td>\n",
              "      <td>no</td>\n",
              "      <td>no</td>\n",
              "      <td>no</td>\n",
              "      <td>no</td>\n",
              "      <td>no</td>\n",
              "      <td>no</td>\n",
              "    </tr>\n",
              "    <tr>\n",
              "      <th>balance</th>\n",
              "      <td>2343</td>\n",
              "      <td>45</td>\n",
              "      <td>1270</td>\n",
              "      <td>2476</td>\n",
              "      <td>184</td>\n",
              "      <td>0</td>\n",
              "      <td>830</td>\n",
              "      <td>545</td>\n",
              "      <td>1</td>\n",
              "      <td>5090</td>\n",
              "    </tr>\n",
              "    <tr>\n",
              "      <th>housing</th>\n",
              "      <td>yes</td>\n",
              "      <td>no</td>\n",
              "      <td>yes</td>\n",
              "      <td>yes</td>\n",
              "      <td>no</td>\n",
              "      <td>yes</td>\n",
              "      <td>yes</td>\n",
              "      <td>yes</td>\n",
              "      <td>yes</td>\n",
              "      <td>yes</td>\n",
              "    </tr>\n",
              "    <tr>\n",
              "      <th>loan</th>\n",
              "      <td>no</td>\n",
              "      <td>no</td>\n",
              "      <td>no</td>\n",
              "      <td>no</td>\n",
              "      <td>no</td>\n",
              "      <td>yes</td>\n",
              "      <td>yes</td>\n",
              "      <td>no</td>\n",
              "      <td>no</td>\n",
              "      <td>no</td>\n",
              "    </tr>\n",
              "    <tr>\n",
              "      <th>contact</th>\n",
              "      <td>unknown</td>\n",
              "      <td>unknown</td>\n",
              "      <td>unknown</td>\n",
              "      <td>unknown</td>\n",
              "      <td>unknown</td>\n",
              "      <td>unknown</td>\n",
              "      <td>unknown</td>\n",
              "      <td>unknown</td>\n",
              "      <td>unknown</td>\n",
              "      <td>unknown</td>\n",
              "    </tr>\n",
              "    <tr>\n",
              "      <th>day</th>\n",
              "      <td>5</td>\n",
              "      <td>5</td>\n",
              "      <td>5</td>\n",
              "      <td>5</td>\n",
              "      <td>5</td>\n",
              "      <td>5</td>\n",
              "      <td>6</td>\n",
              "      <td>6</td>\n",
              "      <td>6</td>\n",
              "      <td>6</td>\n",
              "    </tr>\n",
              "    <tr>\n",
              "      <th>month</th>\n",
              "      <td>may</td>\n",
              "      <td>may</td>\n",
              "      <td>may</td>\n",
              "      <td>may</td>\n",
              "      <td>may</td>\n",
              "      <td>may</td>\n",
              "      <td>may</td>\n",
              "      <td>may</td>\n",
              "      <td>may</td>\n",
              "      <td>may</td>\n",
              "    </tr>\n",
              "    <tr>\n",
              "      <th>duration</th>\n",
              "      <td>1042</td>\n",
              "      <td>1467</td>\n",
              "      <td>1389</td>\n",
              "      <td>579</td>\n",
              "      <td>673</td>\n",
              "      <td>562</td>\n",
              "      <td>1201</td>\n",
              "      <td>1030</td>\n",
              "      <td>608</td>\n",
              "      <td>1297</td>\n",
              "    </tr>\n",
              "    <tr>\n",
              "      <th>campaign</th>\n",
              "      <td>1</td>\n",
              "      <td>1</td>\n",
              "      <td>1</td>\n",
              "      <td>1</td>\n",
              "      <td>2</td>\n",
              "      <td>2</td>\n",
              "      <td>1</td>\n",
              "      <td>1</td>\n",
              "      <td>1</td>\n",
              "      <td>3</td>\n",
              "    </tr>\n",
              "    <tr>\n",
              "      <th>pdays</th>\n",
              "      <td>-1</td>\n",
              "      <td>-1</td>\n",
              "      <td>-1</td>\n",
              "      <td>-1</td>\n",
              "      <td>-1</td>\n",
              "      <td>-1</td>\n",
              "      <td>-1</td>\n",
              "      <td>-1</td>\n",
              "      <td>-1</td>\n",
              "      <td>-1</td>\n",
              "    </tr>\n",
              "    <tr>\n",
              "      <th>previous</th>\n",
              "      <td>0</td>\n",
              "      <td>0</td>\n",
              "      <td>0</td>\n",
              "      <td>0</td>\n",
              "      <td>0</td>\n",
              "      <td>0</td>\n",
              "      <td>0</td>\n",
              "      <td>0</td>\n",
              "      <td>0</td>\n",
              "      <td>0</td>\n",
              "    </tr>\n",
              "    <tr>\n",
              "      <th>poutcome</th>\n",
              "      <td>unknown</td>\n",
              "      <td>unknown</td>\n",
              "      <td>unknown</td>\n",
              "      <td>unknown</td>\n",
              "      <td>unknown</td>\n",
              "      <td>unknown</td>\n",
              "      <td>unknown</td>\n",
              "      <td>unknown</td>\n",
              "      <td>unknown</td>\n",
              "      <td>unknown</td>\n",
              "    </tr>\n",
              "    <tr>\n",
              "      <th>deposit</th>\n",
              "      <td>yes</td>\n",
              "      <td>yes</td>\n",
              "      <td>yes</td>\n",
              "      <td>yes</td>\n",
              "      <td>yes</td>\n",
              "      <td>yes</td>\n",
              "      <td>yes</td>\n",
              "      <td>yes</td>\n",
              "      <td>yes</td>\n",
              "      <td>yes</td>\n",
              "    </tr>\n",
              "  </tbody>\n",
              "</table>\n",
              "</div>"
            ],
            "text/plain": [
              "                   0          1           2  ...          7           8          9\n",
              "age               59         56          41  ...         60          37         28\n",
              "job           admin.     admin.  technician  ...    retired  technician   services\n",
              "marital      married    married     married  ...   divorced     married     single\n",
              "education  secondary  secondary   secondary  ...  secondary   secondary  secondary\n",
              "default           no         no          no  ...         no          no         no\n",
              "balance         2343         45        1270  ...        545           1       5090\n",
              "housing          yes         no         yes  ...        yes         yes        yes\n",
              "loan              no         no          no  ...         no          no         no\n",
              "contact      unknown    unknown     unknown  ...    unknown     unknown    unknown\n",
              "day                5          5           5  ...          6           6          6\n",
              "month            may        may         may  ...        may         may        may\n",
              "duration        1042       1467        1389  ...       1030         608       1297\n",
              "campaign           1          1           1  ...          1           1          3\n",
              "pdays             -1         -1          -1  ...         -1          -1         -1\n",
              "previous           0          0           0  ...          0           0          0\n",
              "poutcome     unknown    unknown     unknown  ...    unknown     unknown    unknown\n",
              "deposit          yes        yes         yes  ...        yes         yes        yes\n",
              "\n",
              "[17 rows x 10 columns]"
            ]
          },
          "metadata": {
            "tags": []
          },
          "execution_count": 8
        }
      ]
    },
    {
      "cell_type": "code",
      "metadata": {
        "colab": {
          "base_uri": "https://localhost:8080/",
          "height": 112
        },
        "id": "OeeLUXou0QPx",
        "outputId": "6d7f100c-eb9b-42e1-de06-e5a13f7eba4a"
      },
      "source": [
        "# Data grouping by class \n",
        "class_name = df.columns[len(df.columns)-1]\n",
        "df.groupby(class_name).count().toPandas()"
      ],
      "execution_count": null,
      "outputs": [
        {
          "output_type": "execute_result",
          "data": {
            "text/html": [
              "<div>\n",
              "<style scoped>\n",
              "    .dataframe tbody tr th:only-of-type {\n",
              "        vertical-align: middle;\n",
              "    }\n",
              "\n",
              "    .dataframe tbody tr th {\n",
              "        vertical-align: top;\n",
              "    }\n",
              "\n",
              "    .dataframe thead th {\n",
              "        text-align: right;\n",
              "    }\n",
              "</style>\n",
              "<table border=\"1\" class=\"dataframe\">\n",
              "  <thead>\n",
              "    <tr style=\"text-align: right;\">\n",
              "      <th></th>\n",
              "      <th>deposit</th>\n",
              "      <th>count</th>\n",
              "    </tr>\n",
              "  </thead>\n",
              "  <tbody>\n",
              "    <tr>\n",
              "      <th>0</th>\n",
              "      <td>no</td>\n",
              "      <td>5873</td>\n",
              "    </tr>\n",
              "    <tr>\n",
              "      <th>1</th>\n",
              "      <td>yes</td>\n",
              "      <td>5289</td>\n",
              "    </tr>\n",
              "  </tbody>\n",
              "</table>\n",
              "</div>"
            ],
            "text/plain": [
              "  deposit  count\n",
              "0      no   5873\n",
              "1     yes   5289"
            ]
          },
          "metadata": {
            "tags": []
          },
          "execution_count": 16
        }
      ]
    },
    {
      "cell_type": "code",
      "metadata": {
        "id": "R_wEOoIz3Q87"
      },
      "source": [
        "# convert string to numeric \n",
        "from pyspark.ml.feature import StringIndexer\n",
        "name_col = ['job', 'marital', 'education', 'default', 'housing', 'loan', 'contact', 'month', 'poutcome', 'deposit']\n",
        "indexer = StringIndexer()"
      ],
      "execution_count": null,
      "outputs": []
    },
    {
      "cell_type": "code",
      "metadata": {
        "id": "uWxa1L2Y1bXt"
      },
      "source": [
        "df1 = df\n",
        "for name in name_col:\n",
        "  indexer.setInputCol(name).setOutputCol(name + \"_index\")\n",
        "  df2 = indexer.fit(df1).transform(df1)\n",
        "  df1 = df2"
      ],
      "execution_count": null,
      "outputs": []
    },
    {
      "cell_type": "code",
      "metadata": {
        "colab": {
          "base_uri": "https://localhost:8080/"
        },
        "id": "wEYOPh_d1hag",
        "outputId": "bc53f9e5-6b23-41fc-83fd-9040a3142edb"
      },
      "source": [
        "df1.show()"
      ],
      "execution_count": null,
      "outputs": [
        {
          "output_type": "stream",
          "text": [
            "+---+-----------+--------+---------+-------+-------+-------+----+-------+---+-----+--------+--------+-----+--------+--------+-------+---------+-------------+---------------+-------------+-------------+----------+-------------+-----------+--------------+-------------+\n",
            "|age|        job| marital|education|default|balance|housing|loan|contact|day|month|duration|campaign|pdays|previous|poutcome|deposit|job_index|marital_index|education_index|default_index|housing_index|loan_index|contact_index|month_index|poutcome_index|deposit_index|\n",
            "+---+-----------+--------+---------+-------+-------+-------+----+-------+---+-----+--------+--------+-----+--------+--------+-------+---------+-------------+---------------+-------------+-------------+----------+-------------+-----------+--------------+-------------+\n",
            "| 59|     admin.| married|secondary|     no|   2343|    yes|  no|unknown|  5|  may|    1042|       1|   -1|       0| unknown|    yes|      3.0|          0.0|            0.0|          0.0|          1.0|       0.0|          1.0|        0.0|           0.0|          1.0|\n",
            "| 56|     admin.| married|secondary|     no|     45|     no|  no|unknown|  5|  may|    1467|       1|   -1|       0| unknown|    yes|      3.0|          0.0|            0.0|          0.0|          0.0|       0.0|          1.0|        0.0|           0.0|          1.0|\n",
            "| 41| technician| married|secondary|     no|   1270|    yes|  no|unknown|  5|  may|    1389|       1|   -1|       0| unknown|    yes|      2.0|          0.0|            0.0|          0.0|          1.0|       0.0|          1.0|        0.0|           0.0|          1.0|\n",
            "| 55|   services| married|secondary|     no|   2476|    yes|  no|unknown|  5|  may|     579|       1|   -1|       0| unknown|    yes|      4.0|          0.0|            0.0|          0.0|          1.0|       0.0|          1.0|        0.0|           0.0|          1.0|\n",
            "| 54|     admin.| married| tertiary|     no|    184|     no|  no|unknown|  5|  may|     673|       2|   -1|       0| unknown|    yes|      3.0|          0.0|            1.0|          0.0|          0.0|       0.0|          1.0|        0.0|           0.0|          1.0|\n",
            "| 42| management|  single| tertiary|     no|      0|    yes| yes|unknown|  5|  may|     562|       2|   -1|       0| unknown|    yes|      0.0|          1.0|            1.0|          0.0|          1.0|       1.0|          1.0|        0.0|           0.0|          1.0|\n",
            "| 56| management| married| tertiary|     no|    830|    yes| yes|unknown|  6|  may|    1201|       1|   -1|       0| unknown|    yes|      0.0|          0.0|            1.0|          0.0|          1.0|       1.0|          1.0|        0.0|           0.0|          1.0|\n",
            "| 60|    retired|divorced|secondary|     no|    545|    yes|  no|unknown|  6|  may|    1030|       1|   -1|       0| unknown|    yes|      5.0|          2.0|            0.0|          0.0|          1.0|       0.0|          1.0|        0.0|           0.0|          1.0|\n",
            "| 37| technician| married|secondary|     no|      1|    yes|  no|unknown|  6|  may|     608|       1|   -1|       0| unknown|    yes|      2.0|          0.0|            0.0|          0.0|          1.0|       0.0|          1.0|        0.0|           0.0|          1.0|\n",
            "| 28|   services|  single|secondary|     no|   5090|    yes|  no|unknown|  6|  may|    1297|       3|   -1|       0| unknown|    yes|      4.0|          1.0|            0.0|          0.0|          1.0|       0.0|          1.0|        0.0|           0.0|          1.0|\n",
            "| 38|     admin.|  single|secondary|     no|    100|    yes|  no|unknown|  7|  may|     786|       1|   -1|       0| unknown|    yes|      3.0|          1.0|            0.0|          0.0|          1.0|       0.0|          1.0|        0.0|           0.0|          1.0|\n",
            "| 30|blue-collar| married|secondary|     no|    309|    yes|  no|unknown|  7|  may|    1574|       2|   -1|       0| unknown|    yes|      1.0|          0.0|            0.0|          0.0|          1.0|       0.0|          1.0|        0.0|           0.0|          1.0|\n",
            "| 29| management| married| tertiary|     no|    199|    yes| yes|unknown|  7|  may|    1689|       4|   -1|       0| unknown|    yes|      0.0|          0.0|            1.0|          0.0|          1.0|       1.0|          1.0|        0.0|           0.0|          1.0|\n",
            "| 46|blue-collar|  single| tertiary|     no|    460|    yes|  no|unknown|  7|  may|    1102|       2|   -1|       0| unknown|    yes|      1.0|          1.0|            1.0|          0.0|          1.0|       0.0|          1.0|        0.0|           0.0|          1.0|\n",
            "| 31| technician|  single| tertiary|     no|    703|    yes|  no|unknown|  8|  may|     943|       2|   -1|       0| unknown|    yes|      2.0|          1.0|            1.0|          0.0|          1.0|       0.0|          1.0|        0.0|           0.0|          1.0|\n",
            "| 35| management|divorced| tertiary|     no|   3837|    yes|  no|unknown|  8|  may|    1084|       1|   -1|       0| unknown|    yes|      0.0|          2.0|            1.0|          0.0|          1.0|       0.0|          1.0|        0.0|           0.0|          1.0|\n",
            "| 32|blue-collar|  single|  primary|     no|    611|    yes|  no|unknown|  8|  may|     541|       3|   -1|       0| unknown|    yes|      1.0|          1.0|            2.0|          0.0|          1.0|       0.0|          1.0|        0.0|           0.0|          1.0|\n",
            "| 49|   services| married|secondary|     no|     -8|    yes|  no|unknown|  8|  may|    1119|       1|   -1|       0| unknown|    yes|      4.0|          0.0|            0.0|          0.0|          1.0|       0.0|          1.0|        0.0|           0.0|          1.0|\n",
            "| 41|     admin.| married|secondary|     no|     55|    yes|  no|unknown|  8|  may|    1120|       2|   -1|       0| unknown|    yes|      3.0|          0.0|            0.0|          0.0|          1.0|       0.0|          1.0|        0.0|           0.0|          1.0|\n",
            "| 49|     admin.|divorced|secondary|     no|    168|    yes| yes|unknown|  8|  may|     513|       1|   -1|       0| unknown|    yes|      3.0|          2.0|            0.0|          0.0|          1.0|       1.0|          1.0|        0.0|           0.0|          1.0|\n",
            "+---+-----------+--------+---------+-------+-------+-------+----+-------+---+-----+--------+--------+-----+--------+--------+-------+---------+-------------+---------------+-------------+-------------+----------+-------------+-----------+--------------+-------------+\n",
            "only showing top 20 rows\n",
            "\n"
          ],
          "name": "stdout"
        }
      ]
    },
    {
      "cell_type": "code",
      "metadata": {
        "colab": {
          "base_uri": "https://localhost:8080/"
        },
        "id": "40YJRwKG6Rgw",
        "outputId": "1fd25c04-0551-49e4-ca92-1eca522032df"
      },
      "source": [
        "name_col_feature = [name + \"_index\" for name in name_col]\n",
        "name_col_feature.remove(\"deposit_index\")\n",
        "name_col_feature += ['balance', 'day', 'campaign', 'pdays', 'previous']\n",
        "class_name = 'deposit_index'\n",
        "print(name_col_feature)\n",
        "print(class_name)"
      ],
      "execution_count": null,
      "outputs": [
        {
          "output_type": "stream",
          "text": [
            "['job_index', 'marital_index', 'education_index', 'default_index', 'housing_index', 'loan_index', 'contact_index', 'month_index', 'poutcome_index', 'balance', 'day', 'campaign', 'pdays', 'previous']\n",
            "deposit_index\n"
          ],
          "name": "stdout"
        }
      ]
    },
    {
      "cell_type": "code",
      "metadata": {
        "id": "Ld7KfnhW7-yv"
      },
      "source": [
        "from pyspark.ml.feature import VectorAssembler\n",
        "\n",
        "assembler = VectorAssembler()\n",
        "assembler.setInputCols(name_col_feature).setOutputCol('features')\n",
        "\n",
        "transformed_data = assembler.transform(df1)"
      ],
      "execution_count": null,
      "outputs": []
    },
    {
      "cell_type": "code",
      "metadata": {
        "colab": {
          "base_uri": "https://localhost:8080/"
        },
        "id": "8bVqpVEp7gki",
        "outputId": "6fa33b88-568b-4a7b-dfff-f02f58ebeadf"
      },
      "source": [
        "transformed_data.show()"
      ],
      "execution_count": null,
      "outputs": [
        {
          "output_type": "stream",
          "text": [
            "+---+-----------+--------+---------+-------+-------+-------+----+-------+---+-----+--------+--------+-----+--------+--------+-------+---------+-------------+---------------+-------------+-------------+----------+-------------+-----------+--------------+-------------+--------------------+\n",
            "|age|        job| marital|education|default|balance|housing|loan|contact|day|month|duration|campaign|pdays|previous|poutcome|deposit|job_index|marital_index|education_index|default_index|housing_index|loan_index|contact_index|month_index|poutcome_index|deposit_index|            features|\n",
            "+---+-----------+--------+---------+-------+-------+-------+----+-------+---+-----+--------+--------+-----+--------+--------+-------+---------+-------------+---------------+-------------+-------------+----------+-------------+-----------+--------------+-------------+--------------------+\n",
            "| 59|     admin.| married|secondary|     no|   2343|    yes|  no|unknown|  5|  may|    1042|       1|   -1|       0| unknown|    yes|      3.0|          0.0|            0.0|          0.0|          1.0|       0.0|          1.0|        0.0|           0.0|          1.0|(14,[0,4,6,9,10,1...|\n",
            "| 56|     admin.| married|secondary|     no|     45|     no|  no|unknown|  5|  may|    1467|       1|   -1|       0| unknown|    yes|      3.0|          0.0|            0.0|          0.0|          0.0|       0.0|          1.0|        0.0|           0.0|          1.0|(14,[0,6,9,10,11,...|\n",
            "| 41| technician| married|secondary|     no|   1270|    yes|  no|unknown|  5|  may|    1389|       1|   -1|       0| unknown|    yes|      2.0|          0.0|            0.0|          0.0|          1.0|       0.0|          1.0|        0.0|           0.0|          1.0|(14,[0,4,6,9,10,1...|\n",
            "| 55|   services| married|secondary|     no|   2476|    yes|  no|unknown|  5|  may|     579|       1|   -1|       0| unknown|    yes|      4.0|          0.0|            0.0|          0.0|          1.0|       0.0|          1.0|        0.0|           0.0|          1.0|(14,[0,4,6,9,10,1...|\n",
            "| 54|     admin.| married| tertiary|     no|    184|     no|  no|unknown|  5|  may|     673|       2|   -1|       0| unknown|    yes|      3.0|          0.0|            1.0|          0.0|          0.0|       0.0|          1.0|        0.0|           0.0|          1.0|(14,[0,2,6,9,10,1...|\n",
            "| 42| management|  single| tertiary|     no|      0|    yes| yes|unknown|  5|  may|     562|       2|   -1|       0| unknown|    yes|      0.0|          1.0|            1.0|          0.0|          1.0|       1.0|          1.0|        0.0|           0.0|          1.0|(14,[1,2,4,5,6,10...|\n",
            "| 56| management| married| tertiary|     no|    830|    yes| yes|unknown|  6|  may|    1201|       1|   -1|       0| unknown|    yes|      0.0|          0.0|            1.0|          0.0|          1.0|       1.0|          1.0|        0.0|           0.0|          1.0|(14,[2,4,5,6,9,10...|\n",
            "| 60|    retired|divorced|secondary|     no|    545|    yes|  no|unknown|  6|  may|    1030|       1|   -1|       0| unknown|    yes|      5.0|          2.0|            0.0|          0.0|          1.0|       0.0|          1.0|        0.0|           0.0|          1.0|(14,[0,1,4,6,9,10...|\n",
            "| 37| technician| married|secondary|     no|      1|    yes|  no|unknown|  6|  may|     608|       1|   -1|       0| unknown|    yes|      2.0|          0.0|            0.0|          0.0|          1.0|       0.0|          1.0|        0.0|           0.0|          1.0|(14,[0,4,6,9,10,1...|\n",
            "| 28|   services|  single|secondary|     no|   5090|    yes|  no|unknown|  6|  may|    1297|       3|   -1|       0| unknown|    yes|      4.0|          1.0|            0.0|          0.0|          1.0|       0.0|          1.0|        0.0|           0.0|          1.0|(14,[0,1,4,6,9,10...|\n",
            "| 38|     admin.|  single|secondary|     no|    100|    yes|  no|unknown|  7|  may|     786|       1|   -1|       0| unknown|    yes|      3.0|          1.0|            0.0|          0.0|          1.0|       0.0|          1.0|        0.0|           0.0|          1.0|(14,[0,1,4,6,9,10...|\n",
            "| 30|blue-collar| married|secondary|     no|    309|    yes|  no|unknown|  7|  may|    1574|       2|   -1|       0| unknown|    yes|      1.0|          0.0|            0.0|          0.0|          1.0|       0.0|          1.0|        0.0|           0.0|          1.0|(14,[0,4,6,9,10,1...|\n",
            "| 29| management| married| tertiary|     no|    199|    yes| yes|unknown|  7|  may|    1689|       4|   -1|       0| unknown|    yes|      0.0|          0.0|            1.0|          0.0|          1.0|       1.0|          1.0|        0.0|           0.0|          1.0|(14,[2,4,5,6,9,10...|\n",
            "| 46|blue-collar|  single| tertiary|     no|    460|    yes|  no|unknown|  7|  may|    1102|       2|   -1|       0| unknown|    yes|      1.0|          1.0|            1.0|          0.0|          1.0|       0.0|          1.0|        0.0|           0.0|          1.0|[1.0,1.0,1.0,0.0,...|\n",
            "| 31| technician|  single| tertiary|     no|    703|    yes|  no|unknown|  8|  may|     943|       2|   -1|       0| unknown|    yes|      2.0|          1.0|            1.0|          0.0|          1.0|       0.0|          1.0|        0.0|           0.0|          1.0|[2.0,1.0,1.0,0.0,...|\n",
            "| 35| management|divorced| tertiary|     no|   3837|    yes|  no|unknown|  8|  may|    1084|       1|   -1|       0| unknown|    yes|      0.0|          2.0|            1.0|          0.0|          1.0|       0.0|          1.0|        0.0|           0.0|          1.0|(14,[1,2,4,6,9,10...|\n",
            "| 32|blue-collar|  single|  primary|     no|    611|    yes|  no|unknown|  8|  may|     541|       3|   -1|       0| unknown|    yes|      1.0|          1.0|            2.0|          0.0|          1.0|       0.0|          1.0|        0.0|           0.0|          1.0|[1.0,1.0,2.0,0.0,...|\n",
            "| 49|   services| married|secondary|     no|     -8|    yes|  no|unknown|  8|  may|    1119|       1|   -1|       0| unknown|    yes|      4.0|          0.0|            0.0|          0.0|          1.0|       0.0|          1.0|        0.0|           0.0|          1.0|(14,[0,4,6,9,10,1...|\n",
            "| 41|     admin.| married|secondary|     no|     55|    yes|  no|unknown|  8|  may|    1120|       2|   -1|       0| unknown|    yes|      3.0|          0.0|            0.0|          0.0|          1.0|       0.0|          1.0|        0.0|           0.0|          1.0|(14,[0,4,6,9,10,1...|\n",
            "| 49|     admin.|divorced|secondary|     no|    168|    yes| yes|unknown|  8|  may|     513|       1|   -1|       0| unknown|    yes|      3.0|          2.0|            0.0|          0.0|          1.0|       1.0|          1.0|        0.0|           0.0|          1.0|[3.0,2.0,0.0,0.0,...|\n",
            "+---+-----------+--------+---------+-------+-------+-------+----+-------+---+-----+--------+--------+-----+--------+--------+-------+---------+-------------+---------------+-------------+-------------+----------+-------------+-----------+--------------+-------------+--------------------+\n",
            "only showing top 20 rows\n",
            "\n"
          ],
          "name": "stdout"
        }
      ]
    },
    {
      "cell_type": "code",
      "metadata": {
        "id": "okEwu5p18oHW"
      },
      "source": [
        "# Split the data\n",
        "(training_data, test_data) = transformed_data.randomSplit([0.8,0.2])"
      ],
      "execution_count": null,
      "outputs": []
    },
    {
      "cell_type": "code",
      "metadata": {
        "colab": {
          "base_uri": "https://localhost:8080/"
        },
        "id": "OJKSBZ3x8pp6",
        "outputId": "edba19af-b80d-4c45-c931-1919b0577dbd"
      },
      "source": [
        "training_data.show()"
      ],
      "execution_count": null,
      "outputs": [
        {
          "output_type": "stream",
          "text": [
            "+---+-----------+-------+---------+-------+-------+-------+----+---------+---+-----+--------+--------+-----+--------+--------+-------+---------+-------------+---------------+-------------+-------------+----------+-------------+-----------+--------------+-------------+--------------------+\n",
            "|age|        job|marital|education|default|balance|housing|loan|  contact|day|month|duration|campaign|pdays|previous|poutcome|deposit|job_index|marital_index|education_index|default_index|housing_index|loan_index|contact_index|month_index|poutcome_index|deposit_index|            features|\n",
            "+---+-----------+-------+---------+-------+-------+-------+----+---------+---+-----+--------+--------+-----+--------+--------+-------+---------+-------------+---------------+-------------+-------------+----------+-------------+-----------+--------------+-------------+--------------------+\n",
            "| 18|    student| single|  primary|     no|    608|     no|  no| cellular| 12|  aug|     267|       1|   -1|       0| unknown|    yes|      7.0|          1.0|            2.0|          0.0|          0.0|       0.0|          0.0|        1.0|           0.0|          1.0|(14,[0,1,2,7,9,10...|\n",
            "| 18|    student| single|  primary|     no|    608|     no|  no| cellular| 13|  nov|     210|       1|   93|       1| success|    yes|      7.0|          1.0|            2.0|          0.0|          0.0|       0.0|          0.0|        4.0|           2.0|          1.0|[7.0,1.0,2.0,0.0,...|\n",
            "| 18|    student| single|  unknown|     no|      3|     no|  no| cellular| 25|  aug|     130|       2|   -1|       0| unknown|    yes|      7.0|          1.0|            3.0|          0.0|          0.0|       0.0|          0.0|        1.0|           0.0|          1.0|(14,[0,1,2,7,9,10...|\n",
            "| 18|    student| single|  unknown|     no|    108|     no|  no| cellular|  8|  sep|     169|       1|   -1|       0| unknown|    yes|      7.0|          1.0|            3.0|          0.0|          0.0|       0.0|          0.0|        9.0|           0.0|          1.0|(14,[0,1,2,7,9,10...|\n",
            "| 18|    student| single|  unknown|     no|    108|     no|  no| cellular|  9|  feb|      92|       1|  183|       1| success|    yes|      7.0|          1.0|            3.0|          0.0|          0.0|       0.0|          0.0|        6.0|           2.0|          1.0|[7.0,1.0,3.0,0.0,...|\n",
            "| 18|    student| single|  unknown|     no|    348|     no|  no| cellular|  5|  may|     443|       4|   -1|       0| unknown|    yes|      7.0|          1.0|            3.0|          0.0|          0.0|       0.0|          0.0|        0.0|           0.0|          1.0|(14,[0,1,2,9,10,1...|\n",
            "| 19|    student| single|  primary|     no|    103|     no|  no| cellular| 10|  jul|     104|       2|   -1|       0| unknown|    yes|      7.0|          1.0|            2.0|          0.0|          0.0|       0.0|          0.0|        2.0|           0.0|          1.0|(14,[0,1,2,7,9,10...|\n",
            "| 19|    student| single|  primary|     no|    134|     no|  no| cellular| 27|  mar|     271|       2|   -1|       0| unknown|    yes|      7.0|          1.0|            2.0|          0.0|          0.0|       0.0|          0.0|       10.0|           0.0|          1.0|(14,[0,1,2,7,9,10...|\n",
            "| 19|    student| single|secondary|     no|     55|     no|  no|telephone|  6|  oct|      89|       2|  193|       1|   other|     no|      7.0|          1.0|            0.0|          0.0|          0.0|       0.0|          2.0|        7.0|           3.0|          0.0|[7.0,1.0,0.0,0.0,...|\n",
            "| 19|    student| single|secondary|     no|    302|     no|  no| cellular| 16|  jul|     205|       1|   -1|       0| unknown|    yes|      7.0|          1.0|            0.0|          0.0|          0.0|       0.0|          0.0|        2.0|           0.0|          1.0|(14,[0,1,7,9,10,1...|\n",
            "| 19|    student| single|secondary|     no|    394|     no|  no| cellular|  5|  apr|     327|       3|   -1|       0| unknown|    yes|      7.0|          1.0|            0.0|          0.0|          0.0|       0.0|          0.0|        5.0|           0.0|          1.0|(14,[0,1,7,9,10,1...|\n",
            "| 19|    student| single|  unknown|     no|    108|     no|  no| cellular|  9|  mar|     273|       2|  182|       1| success|    yes|      7.0|          1.0|            3.0|          0.0|          0.0|       0.0|          0.0|       10.0|           2.0|          1.0|[7.0,1.0,3.0,0.0,...|\n",
            "| 19|    student| single|  unknown|     no|    779|     no|  no| cellular|  1|  apr|     184|       4|   -1|       0| unknown|    yes|      7.0|          1.0|            3.0|          0.0|          0.0|       0.0|          0.0|        5.0|           0.0|          1.0|(14,[0,1,2,7,9,10...|\n",
            "| 20|     admin.| single|secondary|     no|    336|     no| yes| cellular|  5|  jun|     133|       1|   -1|       0| unknown|     no|      3.0|          1.0|            0.0|          0.0|          0.0|       1.0|          0.0|        3.0|           0.0|          0.0|(14,[0,1,5,7,9,10...|\n",
            "| 20|blue-collar| single|secondary|     no|     76|    yes|  no| cellular| 18|  may|     639|       2|   -1|       0| unknown|    yes|      1.0|          1.0|            0.0|          0.0|          1.0|       0.0|          0.0|        0.0|           0.0|          1.0|(14,[0,1,4,9,10,1...|\n",
            "| 20|blue-collar| single|secondary|     no|    423|    yes|  no| cellular| 16|  apr|     498|       1|   -1|       0| unknown|    yes|      1.0|          1.0|            0.0|          0.0|          1.0|       0.0|          0.0|        5.0|           0.0|          1.0|(14,[0,1,4,7,9,10...|\n",
            "| 20|    student|married|  unknown|     no|    292|     no|  no| cellular|  5|  aug|     385|       2|   93|       1| failure|    yes|      7.0|          0.0|            3.0|          0.0|          0.0|       0.0|          0.0|        1.0|           1.0|          1.0|[7.0,0.0,3.0,0.0,...|\n",
            "| 20|    student| single|  primary|     no|    134|     no|  no| cellular| 12|  jul|     273|       1|  277|       3|   other|     no|      7.0|          1.0|            2.0|          0.0|          0.0|       0.0|          0.0|        2.0|           3.0|          0.0|[7.0,1.0,2.0,0.0,...|\n",
            "| 20|    student| single|  primary|     no|   6991|     no|  no| cellular| 12|  aug|     178|       2|   -1|       0| unknown|    yes|      7.0|          1.0|            2.0|          0.0|          0.0|       0.0|          0.0|        1.0|           0.0|          1.0|(14,[0,1,2,7,9,10...|\n",
            "| 20|    student| single|secondary|     no|    130|     no|  no|telephone|  4|  may|      75|       3|   -1|       0| unknown|     no|      7.0|          1.0|            0.0|          0.0|          0.0|       0.0|          2.0|        0.0|           0.0|          0.0|(14,[0,1,6,9,10,1...|\n",
            "+---+-----------+-------+---------+-------+-------+-------+----+---------+---+-----+--------+--------+-----+--------+--------+-------+---------+-------------+---------------+-------------+-------------+----------+-------------+-----------+--------------+-------------+--------------------+\n",
            "only showing top 20 rows\n",
            "\n"
          ],
          "name": "stdout"
        }
      ]
    },
    {
      "cell_type": "code",
      "metadata": {
        "id": "NCiMPZl9849f"
      },
      "source": [
        "from pyspark.ml.classification import LogisticRegression\n",
        "model = LogisticRegression(featuresCol = 'features',labelCol='deposit_index', maxIter=30)\n",
        "M = model.fit(training_data)"
      ],
      "execution_count": null,
      "outputs": []
    },
    {
      "cell_type": "code",
      "metadata": {
        "id": "EfEZ8AGS8-6P"
      },
      "source": [
        "# Predict with the test dataset\n",
        "predictions = M.transform(test_data)"
      ],
      "execution_count": null,
      "outputs": []
    },
    {
      "cell_type": "code",
      "metadata": {
        "colab": {
          "base_uri": "https://localhost:8080/"
        },
        "id": "fRatSxAV9AeP",
        "outputId": "231639fc-bebd-4100-aa6b-1385d6630483"
      },
      "source": [
        "from pyspark.ml.evaluation import MulticlassClassificationEvaluator\n",
        "\n",
        "multi_evaluator = MulticlassClassificationEvaluator(labelCol = 'deposit_index', metricName = 'accuracy')\n",
        "print('Logistic Regression Accuracy:', multi_evaluator.evaluate(predictions))"
      ],
      "execution_count": null,
      "outputs": [
        {
          "output_type": "stream",
          "text": [
            "Logistic Regression Accuracy: 0.6900844819919965\n"
          ],
          "name": "stdout"
        }
      ]
    }
  ]
}